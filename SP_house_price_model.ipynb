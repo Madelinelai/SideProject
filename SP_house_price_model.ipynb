{
  "nbformat": 4,
  "nbformat_minor": 0,
  "metadata": {
    "colab": {
      "name": "SP_house_price_model.ipynb",
      "provenance": [],
      "collapsed_sections": [],
      "include_colab_link": true
    },
    "kernelspec": {
      "name": "python3",
      "display_name": "Python 3"
    }
  },
  "cells": [
    {
      "cell_type": "markdown",
      "metadata": {
        "id": "view-in-github",
        "colab_type": "text"
      },
      "source": [
        "<a href=\"https://colab.research.google.com/github/Madelinelai/SideProject/blob/main/SP_house_price_model.ipynb\" target=\"_parent\"><img src=\"https://colab.research.google.com/assets/colab-badge.svg\" alt=\"Open In Colab\"/></a>"
      ]
    },
    {
      "cell_type": "markdown",
      "metadata": {
        "id": "4p2c2rwXrB-9"
      },
      "source": [
        "# **第一個模型與成效評估**"
      ]
    },
    {
      "cell_type": "code",
      "metadata": {
        "id": "DGcntMng44TE",
        "colab": {
          "base_uri": "https://localhost:8080/",
          "height": 653
        },
        "outputId": "8456a681-28ba-44d5-fc6a-deb9a67b8123"
      },
      "source": [
        "# 套件安裝 (避免未來 Colab 預設使用新版本 Python 套件造成程式無法執行)\n",
        "!pip install arrow==0.15.5\n",
        "!pip install PyDrive==1.3.1\n",
        "!pip install lightgbm==2.3.1"
      ],
      "execution_count": null,
      "outputs": [
        {
          "output_type": "stream",
          "text": [
            "Collecting arrow==0.15.5\n",
            "\u001b[?25l  Downloading https://files.pythonhosted.org/packages/92/fa/f84896dede5decf284e6922134bf03fd26c90870bbf8015f4e8ee2a07bcc/arrow-0.15.5-py2.py3-none-any.whl (46kB)\n",
            "\r\u001b[K     |███████                         | 10kB 19.8MB/s eta 0:00:01\r\u001b[K     |██████████████                  | 20kB 1.7MB/s eta 0:00:01\r\u001b[K     |█████████████████████           | 30kB 2.3MB/s eta 0:00:01\r\u001b[K     |███████████████████████████▉    | 40kB 2.6MB/s eta 0:00:01\r\u001b[K     |████████████████████████████████| 51kB 1.7MB/s \n",
            "\u001b[?25hRequirement already satisfied: python-dateutil in /usr/local/lib/python3.6/dist-packages (from arrow==0.15.5) (2.8.1)\n",
            "Requirement already satisfied: six>=1.5 in /usr/local/lib/python3.6/dist-packages (from python-dateutil->arrow==0.15.5) (1.12.0)\n",
            "Installing collected packages: arrow\n",
            "Successfully installed arrow-0.15.5\n",
            "Requirement already satisfied: PyDrive==1.3.1 in /usr/local/lib/python3.6/dist-packages (1.3.1)\n",
            "Requirement already satisfied: PyYAML>=3.0 in /usr/local/lib/python3.6/dist-packages (from PyDrive==1.3.1) (3.13)\n",
            "Requirement already satisfied: google-api-python-client>=1.2 in /usr/local/lib/python3.6/dist-packages (from PyDrive==1.3.1) (1.7.12)\n",
            "Requirement already satisfied: oauth2client>=4.0.0 in /usr/local/lib/python3.6/dist-packages (from PyDrive==1.3.1) (4.1.3)\n",
            "Requirement already satisfied: httplib2<1dev,>=0.17.0 in /usr/local/lib/python3.6/dist-packages (from google-api-python-client>=1.2->PyDrive==1.3.1) (0.17.4)\n",
            "Requirement already satisfied: google-auth>=1.4.1 in /usr/local/lib/python3.6/dist-packages (from google-api-python-client>=1.2->PyDrive==1.3.1) (1.17.2)\n",
            "Requirement already satisfied: uritemplate<4dev,>=3.0.0 in /usr/local/lib/python3.6/dist-packages (from google-api-python-client>=1.2->PyDrive==1.3.1) (3.0.1)\n",
            "Requirement already satisfied: six<2dev,>=1.6.1 in /usr/local/lib/python3.6/dist-packages (from google-api-python-client>=1.2->PyDrive==1.3.1) (1.12.0)\n",
            "Requirement already satisfied: google-auth-httplib2>=0.0.3 in /usr/local/lib/python3.6/dist-packages (from google-api-python-client>=1.2->PyDrive==1.3.1) (0.0.3)\n",
            "Requirement already satisfied: rsa>=3.1.4 in /usr/local/lib/python3.6/dist-packages (from oauth2client>=4.0.0->PyDrive==1.3.1) (4.6)\n",
            "Requirement already satisfied: pyasn1-modules>=0.0.5 in /usr/local/lib/python3.6/dist-packages (from oauth2client>=4.0.0->PyDrive==1.3.1) (0.2.8)\n",
            "Requirement already satisfied: pyasn1>=0.1.7 in /usr/local/lib/python3.6/dist-packages (from oauth2client>=4.0.0->PyDrive==1.3.1) (0.4.8)\n",
            "Requirement already satisfied: setuptools>=40.3.0 in /usr/local/lib/python3.6/dist-packages (from google-auth>=1.4.1->google-api-python-client>=1.2->PyDrive==1.3.1) (47.3.1)\n",
            "Requirement already satisfied: cachetools<5.0,>=2.0.0 in /usr/local/lib/python3.6/dist-packages (from google-auth>=1.4.1->google-api-python-client>=1.2->PyDrive==1.3.1) (4.1.0)\n",
            "Collecting lightgbm==2.3.1\n",
            "\u001b[?25l  Downloading https://files.pythonhosted.org/packages/0b/9d/ddcb2f43aca194987f1a99e27edf41cf9bc39ea750c3371c2a62698c509a/lightgbm-2.3.1-py2.py3-none-manylinux1_x86_64.whl (1.2MB)\n",
            "\u001b[K     |████████████████████████████████| 1.2MB 2.9MB/s \n",
            "\u001b[?25hRequirement already satisfied: numpy in /usr/local/lib/python3.6/dist-packages (from lightgbm==2.3.1) (1.18.5)\n",
            "Requirement already satisfied: scikit-learn in /usr/local/lib/python3.6/dist-packages (from lightgbm==2.3.1) (0.22.2.post1)\n",
            "Requirement already satisfied: scipy in /usr/local/lib/python3.6/dist-packages (from lightgbm==2.3.1) (1.4.1)\n",
            "Requirement already satisfied: joblib>=0.11 in /usr/local/lib/python3.6/dist-packages (from scikit-learn->lightgbm==2.3.1) (0.15.1)\n",
            "Installing collected packages: lightgbm\n",
            "  Found existing installation: lightgbm 2.2.3\n",
            "    Uninstalling lightgbm-2.2.3:\n",
            "      Successfully uninstalled lightgbm-2.2.3\n",
            "Successfully installed lightgbm-2.3.1\n"
          ],
          "name": "stdout"
        }
      ]
    },
    {
      "cell_type": "code",
      "metadata": {
        "id": "Xlal9LCfkdXu"
      },
      "source": [
        "import arrow\n",
        "import glob\n",
        "import graphviz \n",
        "import numpy as np\n",
        "import os\n",
        "import pandas as pd\n",
        "import re\n",
        "\n",
        "from lightgbm import LGBMRegressor\n",
        "from sklearn import tree\n",
        "from sklearn.datasets import load_iris\n",
        "from sklearn.preprocessing import LabelEncoder, MinMaxScaler\n",
        "from sklearn.neighbors import KNeighborsRegressor\n",
        "\n",
        "from pydrive.auth import GoogleAuth\n",
        "from pydrive.drive import GoogleDrive\n",
        "from google.colab import auth, files\n",
        "from oauth2client.client import GoogleCredentials\n",
        "\n",
        "# 固定 random seed，確保每次亂數結果都一樣\n",
        "np.random.seed(551335114)"
      ],
      "execution_count": null,
      "outputs": []
    },
    {
      "cell_type": "code",
      "metadata": {
        "id": "05RuhncTki_l",
        "colab": {
          "base_uri": "https://localhost:8080/",
          "height": 223
        },
        "outputId": "1eb6e26d-f76e-4bd1-b478-3408678cef26"
      },
      "source": [
        "# 下載房價資料\n",
        "\n",
        "if not os.path.exists('house_price.zip'):\n",
        "    auth.authenticate_user()\n",
        "    gauth = GoogleAuth()\n",
        "    gauth.credentials = GoogleCredentials.get_application_default()\n",
        "    drive = GoogleDrive(gauth)\n",
        "    file_id = '1QOaz8sqVyZzvjikzUzUfpcEiyBKi9-dE'\n",
        "    downloaded = drive.CreateFile({'id': file_id})\n",
        "    downloaded.GetContentFile('house_price.zip')\n",
        "if not os.path.exists('taiwan-address-data.zip'):\n",
        "    auth.authenticate_user()\n",
        "    gauth = GoogleAuth()\n",
        "    gauth.credentials = GoogleCredentials.get_application_default()\n",
        "    drive = GoogleDrive(gauth)\n",
        "    file_id = '1JFBIaoq6VyV5P4pgE-ug3lljgjI8Olht'\n",
        "    downloaded = drive.CreateFile({'id': file_id})\n",
        "    downloaded.GetContentFile('taiwan-address-data.zip')\n",
        "!unzip house_price.zip\n",
        "!unzip -qq taiwan-address-data.zip\n",
        "!ls taiwan-address-data"
      ],
      "execution_count": null,
      "outputs": [
        {
          "output_type": "stream",
          "text": [
            "Archive:  house_price.zip\n",
            "   creating: house_price/\n",
            "  inflating: house_price/107S3_A_lvr_land_A.csv  \n",
            "  inflating: house_price/107S4_A_lvr_land_A.csv  \n",
            "  inflating: house_price/108S1_A_lvr_land_A.csv  \n",
            "  inflating: house_price/108S2_A_lvr_land_A.csv  \n",
            "  inflating: house_price/108S3_A_lvr_land_A.csv  \n",
            "  inflating: house_price/108S4_A_lvr_land_A.csv  \n",
            "  inflating: house_price/109S1_A_lvr_land_A.csv  \n",
            "address.html  area_1984.csv  area_2014.csv    README.md  roads\n",
            "address.js    area_2010.csv  area_custom.csv  road.csv\n"
          ],
          "name": "stdout"
        }
      ]
    },
    {
      "cell_type": "code",
      "metadata": {
        "id": "xLo5bA0iGWSf"
      },
      "source": [
        "# train 10707 - 10806\n",
        "# validation 10807 - 10809\n",
        "# test 10810 - 10812\n",
        "# 讀取 training 期間的資料\n",
        "label = 'the unit price (NTD / square meter)'\n",
        "df_train = []\n",
        "df_val = None\n",
        "df_test = []\n",
        "for path in sorted(glob.glob('house_price/*.csv')):\n",
        "    if '108S3' not in path and '108S4' not in path and '109S1' not in path:\n",
        "        df_train.append(pd.read_csv(path, skiprows=1))\n",
        "    elif '108S3' in path:\n",
        "        df_val = pd.read_csv(path, skiprows=1)\n",
        "    else:\n",
        "        df_test.append(pd.read_csv(path, skiprows=1))\n",
        "df_train = pd.concat(df_train)\n",
        "df_test = pd.concat(df_test)\n",
        "\n",
        "# 刪掉不要的交易時間\n",
        "df_train = df_train.loc[df_train['transaction year month and day'].map(lambda x: 1070701 <= x < 1080701 if x else False)]\n",
        "df_val = df_val.loc[df_val['transaction year month and day'].map(lambda x: 1080701 <= x < 1081001 if x else False)]\n",
        "df_test = df_test.loc[df_test['transaction year month and day'].map(lambda x: 1081001 <= x < 1090101 if x else False)]\n"
      ],
      "execution_count": null,
      "outputs": []
    },
    {
      "cell_type": "code",
      "metadata": {
        "id": "aMSAZQOIHVBQ"
      },
      "source": [
        "DIR_ADDR = 'taiwan-address-data/'\n",
        "\n",
        "pattern_section = re.compile('\\d+段')\n",
        "pattern_lane = re.compile('\\d+巷')\n",
        "pattern_alley = re.compile('\\d+弄')\n",
        "pattern_number = re.compile('\\d+號')\n",
        "\n",
        "def get_area2id():\n",
        "    area2id = dict()\n",
        "    for file in glob.iglob(os.path.join(DIR_ADDR, 'area_*.csv')):\n",
        "        df = pd.read_csv(file, index_col='name')\n",
        "        for k, v in df.to_dict()['dgbas_id'].items():\n",
        "            v = str(v)\n",
        "            if k not in area2id:\n",
        "                cid, tid, vid = '', '', ''\n",
        "                if len(v) == 11:\n",
        "                    vid = v\n",
        "                    tid = v[:7]\n",
        "                elif len(v) == 7:\n",
        "                    tid = v\n",
        "                else:\n",
        "                    cid = v\n",
        "\n",
        "                if tid != '':\n",
        "                    if tid.startswith('10') or tid.startswith('09'):\n",
        "                        cid = v[:5]\n",
        "                    else:\n",
        "                        cid = v[:2]\n",
        "\n",
        "                if cid == '10003':\n",
        "                    cid = '68'\n",
        "                    if tid != '':\n",
        "                        tid = '680' + tid[5:7] + '00'\n",
        "                    if vid != '':\n",
        "                        vid = tid + '-' + vid.split('-')[1]\n",
        "                area2id[k] = (cid, tid, vid)\n",
        "    return area2id\n",
        "\n",
        "\n",
        "def get_cid2roads():\n",
        "    df = pd.read_csv(os.path.join(DIR_ADDR, 'road.csv'), dtype={'county_id': str}).fillna('')\n",
        "    cid2roads = dict()\n",
        "    for row in df.itertuples():\n",
        "        if row.county_id not in cid2roads:\n",
        "            cid2roads[row.county_id] = set()\n",
        "        cid2roads[row.county_id].add(row.road)\n",
        "    return cid2roads\n",
        "\n",
        "\n",
        "WORD_DICT = {\n",
        "    '衞': '衛',\n",
        "    '臺': '台',\n",
        "    '巿': '市',\n",
        "    '舘': '館',\n",
        "    '羣': '群',\n",
        "    '峯': '峰',\n",
        "}\n",
        "\n",
        "\n",
        "def get_loc(area2id, max_area_len, cid2roads, max_road_len, addr):\n",
        "    for k, v in WORD_DICT.items():\n",
        "        addr = addr.replace(k, v)\n",
        "    addr = addr.replace('福建省', '')\n",
        "    addr = addr.replace('台灣省', '')\n",
        "\n",
        "    cid, tid, vid = None, None, None\n",
        "    search_len = min(max_area_len, len(addr))\n",
        "    while search_len > 0:\n",
        "        if addr[:search_len] in area2id:\n",
        "            cid, tid, vid = area2id[addr[:search_len]]\n",
        "            addr = addr[search_len:]\n",
        "            break\n",
        "        search_len -= 1\n",
        "    if cid is None or cid != '63':\n",
        "        # logging.info('Location not found: %s', addr)\n",
        "        return None, None\n",
        "\n",
        "    roads = cid2roads[cid]\n",
        "    search_len = min(max_road_len, len(addr))\n",
        "    road = None\n",
        "    while search_len > 0:\n",
        "        if addr[:search_len] in roads:\n",
        "            road = addr[:search_len]\n",
        "            addr = addr[search_len:]\n",
        "            break\n",
        "        search_len -= 1\n",
        "    if cid is None or road is None:\n",
        "        # logging.info('Location not found: %s', addr)\n",
        "        return None, None\n",
        "\n",
        "    path = os.path.join(DIR_ADDR, 'roads/%s-%s.csv' % (cid, road))\n",
        "    if not os.path.exists(path):\n",
        "        return None, None\n",
        "    df = pd.read_csv(os.path.join(DIR_ADDR, 'roads/%s-%s.csv' % (cid, road)))\n",
        "\n",
        "    matched = re.search(pattern_section, addr)\n",
        "    try:\n",
        "        if matched:\n",
        "            df = df.loc[df['SECTION'] == matched.group(0)]\n",
        "        matched = re.search(pattern_lane, addr)\n",
        "        if matched:\n",
        "            df = df.loc[df['LANE'] == matched.group(0)]\n",
        "        matched = re.search(pattern_alley, addr)\n",
        "        if matched:\n",
        "            df = df.loc[df['ALLEY'] == matched.group(0)]\n",
        "        matched = re.search(pattern_number, addr)\n",
        "        if matched:\n",
        "            if len(df.loc[df['NUMBER'] == matched.group(0)]) > 0:\n",
        "                df = df.loc[df['NUMBER'] == matched.group(0)]\n",
        "        if len(df) == 0:\n",
        "            return None, None\n",
        "        x = df['X'].mean()\n",
        "        y = df['Y'].mean()\n",
        "        return x, y\n",
        "    except:\n",
        "        return None, None\n",
        "\n",
        "pattern = re.compile('\\d+~\\d+')\n",
        "\n",
        "def address_process(addr):\n",
        "    matched = re.search(pattern, addr)\n",
        "    if matched:\n",
        "        val = matched.group(0).split('~')\n",
        "        val = (int(val[0]) + int(val[1])) // 2\n",
        "        addr = addr.replace(addr[matched.span(0)[0]:matched.span(0)[1]], str(val))\n",
        "    return addr\n",
        "\n",
        "def preprocess_address(df):\n",
        "    # 區間地址轉成點地址\n",
        "    df['address'] = df['land sector position building sector house number plate'].map(lambda x: address_process(x))\n",
        "    return df\n",
        "\n",
        "area2id = get_area2id()\n",
        "max_area_len = max(map(len, list(area2id.keys())))\n",
        "cid2roads = get_cid2roads()\n",
        "max_road_len = max(map(len, list(cid2roads.values()))) \n",
        "\n",
        "pattern = re.compile('\\d+~\\d+')\n",
        "df_train = preprocess_address(df_train)\n",
        "df_val = preprocess_address(df_val)\n",
        "df_test = preprocess_address(df_test)\n",
        "addr_dict = dict()\n",
        "for row in pd.concat([df_train, df_val, df_test]).itertuples():\n",
        "    if row.address not in addr_dict:\n",
        "        x, y = get_loc(area2id, max_area_len, cid2roads, max_road_len, row.address)\n",
        "        addr_dict[row.address] = (x, y)\n"
      ],
      "execution_count": null,
      "outputs": []
    },
    {
      "cell_type": "code",
      "metadata": {
        "id": "ZlE-DecUGqfF"
      },
      "source": [
        "# preprocess data\n",
        "note_list = [\n",
        "    '親友、員工或其他特殊關係間之交易',\n",
        "    '含增建或未登記建物',\n",
        "    '建商與地主合建案',\n",
        "    '包含)公共設施保留地之交易',\n",
        "    '畸零地或有合併使用之交易',\n",
        "    '向政府機關承購之案件',\n",
        "    '受債權債務影響或債務抵償之交易',\n",
        "    '急買急賣',\n",
        "    '有民情風俗因素之交易',\n",
        "    '單獨車位交易',\n",
        "    '土地及建物分次登記案件',\n",
        "    '瑕疵物件之交易'\n",
        "]\n",
        "\n",
        "def rm_default_note(line):\n",
        "    for note in note_list:\n",
        "        line = line.replace(note, '')\n",
        "    line = line.replace('。', '').replace(';', '')\n",
        "    return line\n",
        "\n",
        "def preprocess_df(df):\n",
        "    df = df.loc[df['transaction sign'] != '車位']\n",
        "    df = df.loc[df['the use zoning or compiles and checks'] == '住']\n",
        "    idx = df[label].isnull()\n",
        "    df.loc[idx, label] = (df.loc[idx, 'total price NTD'] - df.loc[idx, 'the berth total price NTD']) / df.loc[idx, 'building shifting total area']\n",
        "\n",
        "    ##  備註欄只允許預設的 13 種或空，其它丟掉\n",
        "    df = df.loc[df['the note'].fillna('').map(lambda x: len(rm_default_note(x)) == 0)]\n",
        "\n",
        "    # 丟掉有車位但是沒有車位價格的部分 (會拉低平均單價)\n",
        "    df = df.loc[np.logical_or(df['the berth category'].isnull(), np.logical_and(df['the berth category'].notnull(), df['the berth total price NTD'] > 0))]\n",
        "\n",
        "    df['x'] = df['address'].map(lambda x: addr_dict[x][0])\n",
        "    df['y'] = df['address'].map(lambda x: addr_dict[x][1])\n",
        "\n",
        "    df['price'] = df['the unit price (NTD / square meter)']\n",
        "    return df\n",
        "  \n",
        "df_train = preprocess_df(df_train)\n",
        "df_val = preprocess_df(df_val)\n",
        "df_test = preprocess_df(df_test)"
      ],
      "execution_count": null,
      "outputs": []
    },
    {
      "cell_type": "markdown",
      "metadata": {
        "id": "01DQewKeZg5F"
      },
      "source": [
        "# **第一個模型與成效評估**\n",
        "\n",
        "重點：簡單快速，不一定要用複雜的 ML 模型\n",
        "\n",
        "Metric：\n",
        "1. p > y：2 * (p - y)^2\n",
        "1. p < y：(p - y)^2\n",
        "\n",
        "其中 p 是模型預測值, y 是單位房價"
      ]
    },
    {
      "cell_type": "code",
      "metadata": {
        "id": "XActDopcZ3Fd",
        "colab": {
          "base_uri": "https://localhost:8080/",
          "height": 279
        },
        "outputId": "16f46556-fd9c-4b04-e720-7eb5580ff6df"
      },
      "source": [
        "df_train['xx'] = np.abs(df_train['x'] - df_train['x'].mean())\n",
        "df_train['yy'] = np.abs(df_train['y'] - df_train['y'].mean())\n",
        "for col in df_train.select_dtypes(include=[np.number]).columns:\n",
        "    if col in ('price', 'non-metropolis land use', label):\n",
        "        continue\n",
        "    index = df_train[col].notnull()\n",
        "    dfi = df_train.loc[index]\n",
        "    print(col, np.corrcoef(dfi[col].values, dfi[label].values)[0, 1])"
      ],
      "execution_count": null,
      "outputs": [
        {
          "output_type": "stream",
          "text": [
            "land shifting total area square meter 0.06976072656247793\n",
            "transaction year month and day -0.018286353565263133\n",
            "construction to complete the years 0.31664922040277305\n",
            "building shifting total area 0.0833566154166586\n",
            "Building present situation pattern - room -0.17778101362640175\n",
            "building present situation pattern - hall -0.1414024072277392\n",
            "building present situation pattern - health -0.07829518992746234\n",
            "total price NTD 0.3411554456673363\n",
            "berth shifting total area square meter 0.2034863445636443\n",
            "the berth total price NTD 0.232364066277417\n",
            "x 0.06856153959045609\n",
            "y -0.054630720088880536\n",
            "xx -0.2796409228328273\n",
            "yy -0.2383257197066266\n"
          ],
          "name": "stdout"
        }
      ]
    },
    {
      "cell_type": "code",
      "metadata": {
        "id": "_xNfHr8nn75X",
        "colab": {
          "base_uri": "https://localhost:8080/",
          "height": 92
        },
        "outputId": "1266abc0-34bb-4911-9a9b-3bb30f9c6691"
      },
      "source": [
        "def biased_rmse(y_true, y_pred, a=2):\n",
        "    # p >= y 的 index\n",
        "    gt = y_true <= y_pred\n",
        "    # p < y 的 index\n",
        "    lt = y_true > y_pred\n",
        "    rmse = np.sqrt(np.mean(np.concatenate((np.power(y_pred[gt] - y_true[gt], 2), np.power(y_true[lt] - y_pred[lt], 2)))))\n",
        "    brmse = np.sqrt(np.mean(np.concatenate((np.power(y_pred[gt] - y_true[gt], 2) * 2, np.power(y_true[lt] - y_pred[lt], 2)))))\n",
        "    return rmse, brmse\n",
        "\n",
        "def get_feature_label_baseline(df):\n",
        "    # 只用經緯度當 feature，缺值的話填平均\n",
        "    df = df.copy()\n",
        "    x_mean = df['x'].mean()\n",
        "    y_mean = df['x'].mean()\n",
        "    df['x'].fillna(x_mean, inplace=True)\n",
        "    df['y'].fillna(y_mean, inplace=True)\n",
        "    return df[['x', 'y']].values, df['price'].values\n",
        "\n",
        "train_feature, train_label = get_feature_label_baseline(df_train)\n",
        "val_feature, val_label = get_feature_label_baseline(df_val)\n",
        "test_feature, test_label = get_feature_label_baseline(df_test)\n",
        "\n",
        "print('shapes', train_feature.shape, val_feature.shape, test_feature.shape)\n",
        "\n",
        "# 使用 K Nearest Neighbor 演算法\n",
        "# https://scikit-learn.org/stable/modules/generated/sklearn.neighbors.KNeighborsRegressor.html\n",
        "knn = KNeighborsRegressor()\n",
        "scaler = MinMaxScaler()\n",
        "feature = scaler.fit_transform(train_feature)\n",
        "knn.fit(feature, train_label)\n",
        "\n",
        "train_pred = knn.predict(feature)\n",
        "val_pred = knn.predict(scaler.transform(val_feature))\n",
        "test_pred = knn.predict(scaler.transform(test_feature))\n",
        "print('train rmse, biased rmse', biased_rmse(train_label, train_pred))\n",
        "print('val rmse, biased rmse', biased_rmse(val_label, val_pred))\n",
        "print('test rmse, biased rmse', biased_rmse(test_label, test_pred))"
      ],
      "execution_count": null,
      "outputs": [
        {
          "output_type": "stream",
          "text": [
            "shapes (6142, 2) (171, 2) (2163, 2)\n",
            "train rmse, biased rmse (77173.77905211585, 86331.55021203858)\n",
            "val rmse, biased rmse (119838.14249462036, 130666.65928488702)\n",
            "test rmse, biased rmse (107648.95343763182, 118018.91718759135)\n"
          ],
          "name": "stdout"
        }
      ]
    },
    {
      "cell_type": "markdown",
      "metadata": {
        "id": "y5BVh2ZJvbGl"
      },
      "source": [
        "# **LightGBM**\n",
        "\n",
        "由微軟開發的 Python GBDT 模型套件 ([github](https://github.com/microsoft/LightGBM))，適合表格式資料 (tabular data)。\n",
        "\n",
        "什麼是 GBDT - Gradient Boosting Decision Tree\n",
        "\n",
        "Decision Tree (決策樹)\n"
      ]
    },
    {
      "cell_type": "code",
      "metadata": {
        "id": "rDu6Uww-Q3z7",
        "colab": {
          "base_uri": "https://localhost:8080/",
          "height": 935
        },
        "outputId": "e352897e-4d4e-4398-856d-69e1e797711d"
      },
      "source": [
        "X, y = load_iris(return_X_y=True)\n",
        "clf = tree.DecisionTreeClassifier()\n",
        "clf = clf.fit(X, y)\n",
        "iris = load_iris()\n",
        "dot_data = tree.export_graphviz(clf, out_file=None, feature_names=iris.feature_names, class_names=iris.target_names, filled=True, rounded=True, special_characters=True)  \n",
        "graph = graphviz.Source(dot_data)  \n",
        "graph"
      ],
      "execution_count": null,
      "outputs": [
        {
          "output_type": "execute_result",
          "data": {
            "text/plain": [
              "<graphviz.files.Source at 0x7f46e9de4ba8>"
            ],
            "image/svg+xml": "<?xml version=\"1.0\" encoding=\"UTF-8\" standalone=\"no\"?>\n<!DOCTYPE svg PUBLIC \"-//W3C//DTD SVG 1.1//EN\"\n \"http://www.w3.org/Graphics/SVG/1.1/DTD/svg11.dtd\">\n<!-- Generated by graphviz version 2.40.1 (20161225.0304)\n -->\n<!-- Title: Tree Pages: 1 -->\n<svg width=\"897pt\" height=\"671pt\"\n viewBox=\"0.00 0.00 896.50 671.00\" xmlns=\"http://www.w3.org/2000/svg\" xmlns:xlink=\"http://www.w3.org/1999/xlink\">\n<g id=\"graph0\" class=\"graph\" transform=\"scale(1 1) rotate(0) translate(4 667)\">\n<title>Tree</title>\n<polygon fill=\"#ffffff\" stroke=\"transparent\" points=\"-4,4 -4,-667 892.5,-667 892.5,4 -4,4\"/>\n<!-- 0 -->\n<g id=\"node1\" class=\"node\">\n<title>0</title>\n<path fill=\"#ffffff\" stroke=\"#000000\" d=\"M535.5,-663C535.5,-663 406.5,-663 406.5,-663 400.5,-663 394.5,-657 394.5,-651 394.5,-651 394.5,-592 394.5,-592 394.5,-586 400.5,-580 406.5,-580 406.5,-580 535.5,-580 535.5,-580 541.5,-580 547.5,-586 547.5,-592 547.5,-592 547.5,-651 547.5,-651 547.5,-657 541.5,-663 535.5,-663\"/>\n<text text-anchor=\"start\" x=\"402.5\" y=\"-647.8\" font-family=\"Helvetica,sans-Serif\" font-size=\"14.00\" fill=\"#000000\">petal width (cm) ≤ 0.8</text>\n<text text-anchor=\"start\" x=\"433\" y=\"-632.8\" font-family=\"Helvetica,sans-Serif\" font-size=\"14.00\" fill=\"#000000\">gini = 0.667</text>\n<text text-anchor=\"start\" x=\"423\" y=\"-617.8\" font-family=\"Helvetica,sans-Serif\" font-size=\"14.00\" fill=\"#000000\">samples = 150</text>\n<text text-anchor=\"start\" x=\"409\" y=\"-602.8\" font-family=\"Helvetica,sans-Serif\" font-size=\"14.00\" fill=\"#000000\">value = [50, 50, 50]</text>\n<text text-anchor=\"start\" x=\"424\" y=\"-587.8\" font-family=\"Helvetica,sans-Serif\" font-size=\"14.00\" fill=\"#000000\">class = setosa</text>\n</g>\n<!-- 1 -->\n<g id=\"node2\" class=\"node\">\n<title>1</title>\n<path fill=\"#e58139\" stroke=\"#000000\" d=\"M440.5,-536.5C440.5,-536.5 341.5,-536.5 341.5,-536.5 335.5,-536.5 329.5,-530.5 329.5,-524.5 329.5,-524.5 329.5,-480.5 329.5,-480.5 329.5,-474.5 335.5,-468.5 341.5,-468.5 341.5,-468.5 440.5,-468.5 440.5,-468.5 446.5,-468.5 452.5,-474.5 452.5,-480.5 452.5,-480.5 452.5,-524.5 452.5,-524.5 452.5,-530.5 446.5,-536.5 440.5,-536.5\"/>\n<text text-anchor=\"start\" x=\"361.5\" y=\"-521.3\" font-family=\"Helvetica,sans-Serif\" font-size=\"14.00\" fill=\"#000000\">gini = 0.0</text>\n<text text-anchor=\"start\" x=\"347\" y=\"-506.3\" font-family=\"Helvetica,sans-Serif\" font-size=\"14.00\" fill=\"#000000\">samples = 50</text>\n<text text-anchor=\"start\" x=\"337.5\" y=\"-491.3\" font-family=\"Helvetica,sans-Serif\" font-size=\"14.00\" fill=\"#000000\">value = [50, 0, 0]</text>\n<text text-anchor=\"start\" x=\"344\" y=\"-476.3\" font-family=\"Helvetica,sans-Serif\" font-size=\"14.00\" fill=\"#000000\">class = setosa</text>\n</g>\n<!-- 0&#45;&gt;1 -->\n<g id=\"edge1\" class=\"edge\">\n<title>0&#45;&gt;1</title>\n<path fill=\"none\" stroke=\"#000000\" d=\"M443.0199,-579.8796C435.4797,-568.6636 427.3113,-556.5131 419.7309,-545.2372\"/>\n<polygon fill=\"#000000\" stroke=\"#000000\" points=\"422.5527,-543.1612 414.0689,-536.8149 416.7434,-547.0667 422.5527,-543.1612\"/>\n<text text-anchor=\"middle\" x=\"409.2608\" y=\"-557.6482\" font-family=\"Helvetica,sans-Serif\" font-size=\"14.00\" fill=\"#000000\">True</text>\n</g>\n<!-- 2 -->\n<g id=\"node3\" class=\"node\">\n<title>2</title>\n<path fill=\"#ffffff\" stroke=\"#000000\" d=\"M619.5,-544C619.5,-544 482.5,-544 482.5,-544 476.5,-544 470.5,-538 470.5,-532 470.5,-532 470.5,-473 470.5,-473 470.5,-467 476.5,-461 482.5,-461 482.5,-461 619.5,-461 619.5,-461 625.5,-461 631.5,-467 631.5,-473 631.5,-473 631.5,-532 631.5,-532 631.5,-538 625.5,-544 619.5,-544\"/>\n<text text-anchor=\"start\" x=\"478.5\" y=\"-528.8\" font-family=\"Helvetica,sans-Serif\" font-size=\"14.00\" fill=\"#000000\">petal width (cm) ≤ 1.75</text>\n<text text-anchor=\"start\" x=\"521.5\" y=\"-513.8\" font-family=\"Helvetica,sans-Serif\" font-size=\"14.00\" fill=\"#000000\">gini = 0.5</text>\n<text text-anchor=\"start\" x=\"503\" y=\"-498.8\" font-family=\"Helvetica,sans-Serif\" font-size=\"14.00\" fill=\"#000000\">samples = 100</text>\n<text text-anchor=\"start\" x=\"493.5\" y=\"-483.8\" font-family=\"Helvetica,sans-Serif\" font-size=\"14.00\" fill=\"#000000\">value = [0, 50, 50]</text>\n<text text-anchor=\"start\" x=\"495\" y=\"-468.8\" font-family=\"Helvetica,sans-Serif\" font-size=\"14.00\" fill=\"#000000\">class = versicolor</text>\n</g>\n<!-- 0&#45;&gt;2 -->\n<g id=\"edge2\" class=\"edge\">\n<title>0&#45;&gt;2</title>\n<path fill=\"none\" stroke=\"#000000\" d=\"M498.9801,-579.8796C504.8531,-571.1434 511.1073,-561.8404 517.1679,-552.8253\"/>\n<polygon fill=\"#000000\" stroke=\"#000000\" points=\"520.2259,-554.5498 522.9005,-544.2981 514.4166,-550.6444 520.2259,-554.5498\"/>\n<text text-anchor=\"middle\" x=\"527.7085\" y=\"-565.1314\" font-family=\"Helvetica,sans-Serif\" font-size=\"14.00\" fill=\"#000000\">False</text>\n</g>\n<!-- 3 -->\n<g id=\"node4\" class=\"node\">\n<title>3</title>\n<path fill=\"#4de88e\" stroke=\"#000000\" d=\"M505.5,-425C505.5,-425 362.5,-425 362.5,-425 356.5,-425 350.5,-419 350.5,-413 350.5,-413 350.5,-354 350.5,-354 350.5,-348 356.5,-342 362.5,-342 362.5,-342 505.5,-342 505.5,-342 511.5,-342 517.5,-348 517.5,-354 517.5,-354 517.5,-413 517.5,-413 517.5,-419 511.5,-425 505.5,-425\"/>\n<text text-anchor=\"start\" x=\"358.5\" y=\"-409.8\" font-family=\"Helvetica,sans-Serif\" font-size=\"14.00\" fill=\"#000000\">petal length (cm) ≤ 4.95</text>\n<text text-anchor=\"start\" x=\"396\" y=\"-394.8\" font-family=\"Helvetica,sans-Serif\" font-size=\"14.00\" fill=\"#000000\">gini = 0.168</text>\n<text text-anchor=\"start\" x=\"390\" y=\"-379.8\" font-family=\"Helvetica,sans-Serif\" font-size=\"14.00\" fill=\"#000000\">samples = 54</text>\n<text text-anchor=\"start\" x=\"380.5\" y=\"-364.8\" font-family=\"Helvetica,sans-Serif\" font-size=\"14.00\" fill=\"#000000\">value = [0, 49, 5]</text>\n<text text-anchor=\"start\" x=\"378\" y=\"-349.8\" font-family=\"Helvetica,sans-Serif\" font-size=\"14.00\" fill=\"#000000\">class = versicolor</text>\n</g>\n<!-- 2&#45;&gt;3 -->\n<g id=\"edge3\" class=\"edge\">\n<title>2&#45;&gt;3</title>\n<path fill=\"none\" stroke=\"#000000\" d=\"M510.0791,-460.8796C501.047,-451.6931 491.3987,-441.8798 482.1112,-432.4336\"/>\n<polygon fill=\"#000000\" stroke=\"#000000\" points=\"484.6023,-429.975 475.0956,-425.2981 479.6107,-434.8827 484.6023,-429.975\"/>\n</g>\n<!-- 12 -->\n<g id=\"node13\" class=\"node\">\n<title>12</title>\n<path fill=\"#843de6\" stroke=\"#000000\" d=\"M740.5,-425C740.5,-425 597.5,-425 597.5,-425 591.5,-425 585.5,-419 585.5,-413 585.5,-413 585.5,-354 585.5,-354 585.5,-348 591.5,-342 597.5,-342 597.5,-342 740.5,-342 740.5,-342 746.5,-342 752.5,-348 752.5,-354 752.5,-354 752.5,-413 752.5,-413 752.5,-419 746.5,-425 740.5,-425\"/>\n<text text-anchor=\"start\" x=\"593.5\" y=\"-409.8\" font-family=\"Helvetica,sans-Serif\" font-size=\"14.00\" fill=\"#000000\">petal length (cm) ≤ 4.85</text>\n<text text-anchor=\"start\" x=\"631\" y=\"-394.8\" font-family=\"Helvetica,sans-Serif\" font-size=\"14.00\" fill=\"#000000\">gini = 0.043</text>\n<text text-anchor=\"start\" x=\"625\" y=\"-379.8\" font-family=\"Helvetica,sans-Serif\" font-size=\"14.00\" fill=\"#000000\">samples = 46</text>\n<text text-anchor=\"start\" x=\"615.5\" y=\"-364.8\" font-family=\"Helvetica,sans-Serif\" font-size=\"14.00\" fill=\"#000000\">value = [0, 1, 45]</text>\n<text text-anchor=\"start\" x=\"617.5\" y=\"-349.8\" font-family=\"Helvetica,sans-Serif\" font-size=\"14.00\" fill=\"#000000\">class = virginica</text>\n</g>\n<!-- 2&#45;&gt;12 -->\n<g id=\"edge12\" class=\"edge\">\n<title>2&#45;&gt;12</title>\n<path fill=\"none\" stroke=\"#000000\" d=\"M592.2707,-460.8796C601.3799,-451.6931 611.1108,-441.8798 620.4776,-432.4336\"/>\n<polygon fill=\"#000000\" stroke=\"#000000\" points=\"622.9973,-434.8634 627.5532,-425.2981 618.0267,-429.9345 622.9973,-434.8634\"/>\n</g>\n<!-- 4 -->\n<g id=\"node5\" class=\"node\">\n<title>4</title>\n<path fill=\"#3de684\" stroke=\"#000000\" d=\"M274.5,-306C274.5,-306 137.5,-306 137.5,-306 131.5,-306 125.5,-300 125.5,-294 125.5,-294 125.5,-235 125.5,-235 125.5,-229 131.5,-223 137.5,-223 137.5,-223 274.5,-223 274.5,-223 280.5,-223 286.5,-229 286.5,-235 286.5,-235 286.5,-294 286.5,-294 286.5,-300 280.5,-306 274.5,-306\"/>\n<text text-anchor=\"start\" x=\"133.5\" y=\"-290.8\" font-family=\"Helvetica,sans-Serif\" font-size=\"14.00\" fill=\"#000000\">petal width (cm) ≤ 1.65</text>\n<text text-anchor=\"start\" x=\"168\" y=\"-275.8\" font-family=\"Helvetica,sans-Serif\" font-size=\"14.00\" fill=\"#000000\">gini = 0.041</text>\n<text text-anchor=\"start\" x=\"162\" y=\"-260.8\" font-family=\"Helvetica,sans-Serif\" font-size=\"14.00\" fill=\"#000000\">samples = 48</text>\n<text text-anchor=\"start\" x=\"152.5\" y=\"-245.8\" font-family=\"Helvetica,sans-Serif\" font-size=\"14.00\" fill=\"#000000\">value = [0, 47, 1]</text>\n<text text-anchor=\"start\" x=\"150\" y=\"-230.8\" font-family=\"Helvetica,sans-Serif\" font-size=\"14.00\" fill=\"#000000\">class = versicolor</text>\n</g>\n<!-- 3&#45;&gt;4 -->\n<g id=\"edge4\" class=\"edge\">\n<title>3&#45;&gt;4</title>\n<path fill=\"none\" stroke=\"#000000\" d=\"M354.2567,-341.8796C334.9914,-331.8244 314.2871,-321.0183 294.6413,-310.7645\"/>\n<polygon fill=\"#000000\" stroke=\"#000000\" points=\"296.1829,-307.6212 285.6983,-306.0969 292.944,-313.8268 296.1829,-307.6212\"/>\n</g>\n<!-- 7 -->\n<g id=\"node8\" class=\"node\">\n<title>7</title>\n<path fill=\"#c09cf2\" stroke=\"#000000\" d=\"M502.5,-306C502.5,-306 365.5,-306 365.5,-306 359.5,-306 353.5,-300 353.5,-294 353.5,-294 353.5,-235 353.5,-235 353.5,-229 359.5,-223 365.5,-223 365.5,-223 502.5,-223 502.5,-223 508.5,-223 514.5,-229 514.5,-235 514.5,-235 514.5,-294 514.5,-294 514.5,-300 508.5,-306 502.5,-306\"/>\n<text text-anchor=\"start\" x=\"361.5\" y=\"-290.8\" font-family=\"Helvetica,sans-Serif\" font-size=\"14.00\" fill=\"#000000\">petal width (cm) ≤ 1.55</text>\n<text text-anchor=\"start\" x=\"396\" y=\"-275.8\" font-family=\"Helvetica,sans-Serif\" font-size=\"14.00\" fill=\"#000000\">gini = 0.444</text>\n<text text-anchor=\"start\" x=\"394.5\" y=\"-260.8\" font-family=\"Helvetica,sans-Serif\" font-size=\"14.00\" fill=\"#000000\">samples = 6</text>\n<text text-anchor=\"start\" x=\"384.5\" y=\"-245.8\" font-family=\"Helvetica,sans-Serif\" font-size=\"14.00\" fill=\"#000000\">value = [0, 2, 4]</text>\n<text text-anchor=\"start\" x=\"382.5\" y=\"-230.8\" font-family=\"Helvetica,sans-Serif\" font-size=\"14.00\" fill=\"#000000\">class = virginica</text>\n</g>\n<!-- 3&#45;&gt;7 -->\n<g id=\"edge7\" class=\"edge\">\n<title>3&#45;&gt;7</title>\n<path fill=\"none\" stroke=\"#000000\" d=\"M434,-341.8796C434,-333.6838 434,-324.9891 434,-316.5013\"/>\n<polygon fill=\"#000000\" stroke=\"#000000\" points=\"437.5001,-316.298 434,-306.2981 430.5001,-316.2981 437.5001,-316.298\"/>\n</g>\n<!-- 5 -->\n<g id=\"node6\" class=\"node\">\n<title>5</title>\n<path fill=\"#39e581\" stroke=\"#000000\" d=\"M116,-179.5C116,-179.5 12,-179.5 12,-179.5 6,-179.5 0,-173.5 0,-167.5 0,-167.5 0,-123.5 0,-123.5 0,-117.5 6,-111.5 12,-111.5 12,-111.5 116,-111.5 116,-111.5 122,-111.5 128,-117.5 128,-123.5 128,-123.5 128,-167.5 128,-167.5 128,-173.5 122,-179.5 116,-179.5\"/>\n<text text-anchor=\"start\" x=\"34.5\" y=\"-164.3\" font-family=\"Helvetica,sans-Serif\" font-size=\"14.00\" fill=\"#000000\">gini = 0.0</text>\n<text text-anchor=\"start\" x=\"20\" y=\"-149.3\" font-family=\"Helvetica,sans-Serif\" font-size=\"14.00\" fill=\"#000000\">samples = 47</text>\n<text text-anchor=\"start\" x=\"10.5\" y=\"-134.3\" font-family=\"Helvetica,sans-Serif\" font-size=\"14.00\" fill=\"#000000\">value = [0, 47, 0]</text>\n<text text-anchor=\"start\" x=\"8\" y=\"-119.3\" font-family=\"Helvetica,sans-Serif\" font-size=\"14.00\" fill=\"#000000\">class = versicolor</text>\n</g>\n<!-- 4&#45;&gt;5 -->\n<g id=\"edge5\" class=\"edge\">\n<title>4&#45;&gt;5</title>\n<path fill=\"none\" stroke=\"#000000\" d=\"M156.3353,-222.8796C142.1642,-211.0038 126.743,-198.0804 112.6342,-186.2568\"/>\n<polygon fill=\"#000000\" stroke=\"#000000\" points=\"114.8598,-183.5554 104.9472,-179.8149 110.3637,-188.9206 114.8598,-183.5554\"/>\n</g>\n<!-- 6 -->\n<g id=\"node7\" class=\"node\">\n<title>6</title>\n<path fill=\"#8139e5\" stroke=\"#000000\" d=\"M253.5,-179.5C253.5,-179.5 158.5,-179.5 158.5,-179.5 152.5,-179.5 146.5,-173.5 146.5,-167.5 146.5,-167.5 146.5,-123.5 146.5,-123.5 146.5,-117.5 152.5,-111.5 158.5,-111.5 158.5,-111.5 253.5,-111.5 253.5,-111.5 259.5,-111.5 265.5,-117.5 265.5,-123.5 265.5,-123.5 265.5,-167.5 265.5,-167.5 265.5,-173.5 259.5,-179.5 253.5,-179.5\"/>\n<text text-anchor=\"start\" x=\"176.5\" y=\"-164.3\" font-family=\"Helvetica,sans-Serif\" font-size=\"14.00\" fill=\"#000000\">gini = 0.0</text>\n<text text-anchor=\"start\" x=\"166.5\" y=\"-149.3\" font-family=\"Helvetica,sans-Serif\" font-size=\"14.00\" fill=\"#000000\">samples = 1</text>\n<text text-anchor=\"start\" x=\"156.5\" y=\"-134.3\" font-family=\"Helvetica,sans-Serif\" font-size=\"14.00\" fill=\"#000000\">value = [0, 0, 1]</text>\n<text text-anchor=\"start\" x=\"154.5\" y=\"-119.3\" font-family=\"Helvetica,sans-Serif\" font-size=\"14.00\" fill=\"#000000\">class = virginica</text>\n</g>\n<!-- 4&#45;&gt;6 -->\n<g id=\"edge6\" class=\"edge\">\n<title>4&#45;&gt;6</title>\n<path fill=\"none\" stroke=\"#000000\" d=\"M206,-222.8796C206,-212.2134 206,-200.7021 206,-189.9015\"/>\n<polygon fill=\"#000000\" stroke=\"#000000\" points=\"209.5001,-189.8149 206,-179.8149 202.5001,-189.815 209.5001,-189.8149\"/>\n</g>\n<!-- 8 -->\n<g id=\"node9\" class=\"node\">\n<title>8</title>\n<path fill=\"#8139e5\" stroke=\"#000000\" d=\"M390.5,-179.5C390.5,-179.5 295.5,-179.5 295.5,-179.5 289.5,-179.5 283.5,-173.5 283.5,-167.5 283.5,-167.5 283.5,-123.5 283.5,-123.5 283.5,-117.5 289.5,-111.5 295.5,-111.5 295.5,-111.5 390.5,-111.5 390.5,-111.5 396.5,-111.5 402.5,-117.5 402.5,-123.5 402.5,-123.5 402.5,-167.5 402.5,-167.5 402.5,-173.5 396.5,-179.5 390.5,-179.5\"/>\n<text text-anchor=\"start\" x=\"313.5\" y=\"-164.3\" font-family=\"Helvetica,sans-Serif\" font-size=\"14.00\" fill=\"#000000\">gini = 0.0</text>\n<text text-anchor=\"start\" x=\"303.5\" y=\"-149.3\" font-family=\"Helvetica,sans-Serif\" font-size=\"14.00\" fill=\"#000000\">samples = 3</text>\n<text text-anchor=\"start\" x=\"293.5\" y=\"-134.3\" font-family=\"Helvetica,sans-Serif\" font-size=\"14.00\" fill=\"#000000\">value = [0, 0, 3]</text>\n<text text-anchor=\"start\" x=\"291.5\" y=\"-119.3\" font-family=\"Helvetica,sans-Serif\" font-size=\"14.00\" fill=\"#000000\">class = virginica</text>\n</g>\n<!-- 7&#45;&gt;8 -->\n<g id=\"edge8\" class=\"edge\">\n<title>7&#45;&gt;8</title>\n<path fill=\"none\" stroke=\"#000000\" d=\"M402.1726,-222.8796C393.5116,-211.5536 384.1219,-199.2748 375.428,-187.9058\"/>\n<polygon fill=\"#000000\" stroke=\"#000000\" points=\"378.0956,-185.6324 369.2408,-179.8149 372.5351,-189.8846 378.0956,-185.6324\"/>\n</g>\n<!-- 9 -->\n<g id=\"node10\" class=\"node\">\n<title>9</title>\n<path fill=\"#9cf2c0\" stroke=\"#000000\" d=\"M579.5,-187C579.5,-187 432.5,-187 432.5,-187 426.5,-187 420.5,-181 420.5,-175 420.5,-175 420.5,-116 420.5,-116 420.5,-110 426.5,-104 432.5,-104 432.5,-104 579.5,-104 579.5,-104 585.5,-104 591.5,-110 591.5,-116 591.5,-116 591.5,-175 591.5,-175 591.5,-181 585.5,-187 579.5,-187\"/>\n<text text-anchor=\"start\" x=\"428.5\" y=\"-171.8\" font-family=\"Helvetica,sans-Serif\" font-size=\"14.00\" fill=\"#000000\">sepal length (cm) ≤ 6.95</text>\n<text text-anchor=\"start\" x=\"468\" y=\"-156.8\" font-family=\"Helvetica,sans-Serif\" font-size=\"14.00\" fill=\"#000000\">gini = 0.444</text>\n<text text-anchor=\"start\" x=\"466.5\" y=\"-141.8\" font-family=\"Helvetica,sans-Serif\" font-size=\"14.00\" fill=\"#000000\">samples = 3</text>\n<text text-anchor=\"start\" x=\"456.5\" y=\"-126.8\" font-family=\"Helvetica,sans-Serif\" font-size=\"14.00\" fill=\"#000000\">value = [0, 2, 1]</text>\n<text text-anchor=\"start\" x=\"450\" y=\"-111.8\" font-family=\"Helvetica,sans-Serif\" font-size=\"14.00\" fill=\"#000000\">class = versicolor</text>\n</g>\n<!-- 7&#45;&gt;9 -->\n<g id=\"edge9\" class=\"edge\">\n<title>7&#45;&gt;9</title>\n<path fill=\"none\" stroke=\"#000000\" d=\"M459.1821,-222.8796C464.4133,-214.2335 469.9805,-205.0322 475.3823,-196.1042\"/>\n<polygon fill=\"#000000\" stroke=\"#000000\" points=\"478.5283,-197.6658 480.7104,-187.2981 472.5392,-194.0421 478.5283,-197.6658\"/>\n</g>\n<!-- 10 -->\n<g id=\"node11\" class=\"node\">\n<title>10</title>\n<path fill=\"#39e581\" stroke=\"#000000\" d=\"M487,-68C487,-68 383,-68 383,-68 377,-68 371,-62 371,-56 371,-56 371,-12 371,-12 371,-6 377,0 383,0 383,0 487,0 487,0 493,0 499,-6 499,-12 499,-12 499,-56 499,-56 499,-62 493,-68 487,-68\"/>\n<text text-anchor=\"start\" x=\"405.5\" y=\"-52.8\" font-family=\"Helvetica,sans-Serif\" font-size=\"14.00\" fill=\"#000000\">gini = 0.0</text>\n<text text-anchor=\"start\" x=\"395.5\" y=\"-37.8\" font-family=\"Helvetica,sans-Serif\" font-size=\"14.00\" fill=\"#000000\">samples = 2</text>\n<text text-anchor=\"start\" x=\"385.5\" y=\"-22.8\" font-family=\"Helvetica,sans-Serif\" font-size=\"14.00\" fill=\"#000000\">value = [0, 2, 0]</text>\n<text text-anchor=\"start\" x=\"379\" y=\"-7.8\" font-family=\"Helvetica,sans-Serif\" font-size=\"14.00\" fill=\"#000000\">class = versicolor</text>\n</g>\n<!-- 9&#45;&gt;10 -->\n<g id=\"edge10\" class=\"edge\">\n<title>9&#45;&gt;10</title>\n<path fill=\"none\" stroke=\"#000000\" d=\"M479.5622,-103.9815C473.944,-95.1585 468.0012,-85.8258 462.3497,-76.9506\"/>\n<polygon fill=\"#000000\" stroke=\"#000000\" points=\"465.1416,-74.8188 456.8181,-68.2637 459.2371,-78.5787 465.1416,-74.8188\"/>\n</g>\n<!-- 11 -->\n<g id=\"node12\" class=\"node\">\n<title>11</title>\n<path fill=\"#8139e5\" stroke=\"#000000\" d=\"M624.5,-68C624.5,-68 529.5,-68 529.5,-68 523.5,-68 517.5,-62 517.5,-56 517.5,-56 517.5,-12 517.5,-12 517.5,-6 523.5,0 529.5,0 529.5,0 624.5,0 624.5,0 630.5,0 636.5,-6 636.5,-12 636.5,-12 636.5,-56 636.5,-56 636.5,-62 630.5,-68 624.5,-68\"/>\n<text text-anchor=\"start\" x=\"547.5\" y=\"-52.8\" font-family=\"Helvetica,sans-Serif\" font-size=\"14.00\" fill=\"#000000\">gini = 0.0</text>\n<text text-anchor=\"start\" x=\"537.5\" y=\"-37.8\" font-family=\"Helvetica,sans-Serif\" font-size=\"14.00\" fill=\"#000000\">samples = 1</text>\n<text text-anchor=\"start\" x=\"527.5\" y=\"-22.8\" font-family=\"Helvetica,sans-Serif\" font-size=\"14.00\" fill=\"#000000\">value = [0, 0, 1]</text>\n<text text-anchor=\"start\" x=\"525.5\" y=\"-7.8\" font-family=\"Helvetica,sans-Serif\" font-size=\"14.00\" fill=\"#000000\">class = virginica</text>\n</g>\n<!-- 9&#45;&gt;11 -->\n<g id=\"edge11\" class=\"edge\">\n<title>9&#45;&gt;11</title>\n<path fill=\"none\" stroke=\"#000000\" d=\"M532.4378,-103.9815C538.056,-95.1585 543.9988,-85.8258 549.6503,-76.9506\"/>\n<polygon fill=\"#000000\" stroke=\"#000000\" points=\"552.7629,-78.5787 555.1819,-68.2637 546.8584,-74.8188 552.7629,-78.5787\"/>\n</g>\n<!-- 13 -->\n<g id=\"node14\" class=\"node\">\n<title>13</title>\n<path fill=\"#c09cf2\" stroke=\"#000000\" d=\"M735.5,-306C735.5,-306 602.5,-306 602.5,-306 596.5,-306 590.5,-300 590.5,-294 590.5,-294 590.5,-235 590.5,-235 590.5,-229 596.5,-223 602.5,-223 602.5,-223 735.5,-223 735.5,-223 741.5,-223 747.5,-229 747.5,-235 747.5,-235 747.5,-294 747.5,-294 747.5,-300 741.5,-306 735.5,-306\"/>\n<text text-anchor=\"start\" x=\"598.5\" y=\"-290.8\" font-family=\"Helvetica,sans-Serif\" font-size=\"14.00\" fill=\"#000000\">sepal width (cm) ≤ 3.1</text>\n<text text-anchor=\"start\" x=\"631\" y=\"-275.8\" font-family=\"Helvetica,sans-Serif\" font-size=\"14.00\" fill=\"#000000\">gini = 0.444</text>\n<text text-anchor=\"start\" x=\"629.5\" y=\"-260.8\" font-family=\"Helvetica,sans-Serif\" font-size=\"14.00\" fill=\"#000000\">samples = 3</text>\n<text text-anchor=\"start\" x=\"619.5\" y=\"-245.8\" font-family=\"Helvetica,sans-Serif\" font-size=\"14.00\" fill=\"#000000\">value = [0, 1, 2]</text>\n<text text-anchor=\"start\" x=\"617.5\" y=\"-230.8\" font-family=\"Helvetica,sans-Serif\" font-size=\"14.00\" fill=\"#000000\">class = virginica</text>\n</g>\n<!-- 12&#45;&gt;13 -->\n<g id=\"edge13\" class=\"edge\">\n<title>12&#45;&gt;13</title>\n<path fill=\"none\" stroke=\"#000000\" d=\"M669,-341.8796C669,-333.6838 669,-324.9891 669,-316.5013\"/>\n<polygon fill=\"#000000\" stroke=\"#000000\" points=\"672.5001,-316.298 669,-306.2981 665.5001,-316.2981 672.5001,-316.298\"/>\n</g>\n<!-- 16 -->\n<g id=\"node17\" class=\"node\">\n<title>16</title>\n<path fill=\"#8139e5\" stroke=\"#000000\" d=\"M876.5,-298.5C876.5,-298.5 777.5,-298.5 777.5,-298.5 771.5,-298.5 765.5,-292.5 765.5,-286.5 765.5,-286.5 765.5,-242.5 765.5,-242.5 765.5,-236.5 771.5,-230.5 777.5,-230.5 777.5,-230.5 876.5,-230.5 876.5,-230.5 882.5,-230.5 888.5,-236.5 888.5,-242.5 888.5,-242.5 888.5,-286.5 888.5,-286.5 888.5,-292.5 882.5,-298.5 876.5,-298.5\"/>\n<text text-anchor=\"start\" x=\"797.5\" y=\"-283.3\" font-family=\"Helvetica,sans-Serif\" font-size=\"14.00\" fill=\"#000000\">gini = 0.0</text>\n<text text-anchor=\"start\" x=\"783\" y=\"-268.3\" font-family=\"Helvetica,sans-Serif\" font-size=\"14.00\" fill=\"#000000\">samples = 43</text>\n<text text-anchor=\"start\" x=\"773.5\" y=\"-253.3\" font-family=\"Helvetica,sans-Serif\" font-size=\"14.00\" fill=\"#000000\">value = [0, 0, 43]</text>\n<text text-anchor=\"start\" x=\"775.5\" y=\"-238.3\" font-family=\"Helvetica,sans-Serif\" font-size=\"14.00\" fill=\"#000000\">class = virginica</text>\n</g>\n<!-- 12&#45;&gt;16 -->\n<g id=\"edge16\" class=\"edge\">\n<title>12&#45;&gt;16</title>\n<path fill=\"none\" stroke=\"#000000\" d=\"M724.2607,-341.8796C740.2503,-329.8368 757.6703,-316.7167 773.5474,-304.7586\"/>\n<polygon fill=\"#000000\" stroke=\"#000000\" points=\"775.8116,-307.435 781.6938,-298.623 771.6002,-301.8435 775.8116,-307.435\"/>\n</g>\n<!-- 14 -->\n<g id=\"node15\" class=\"node\">\n<title>14</title>\n<path fill=\"#8139e5\" stroke=\"#000000\" d=\"M716.5,-179.5C716.5,-179.5 621.5,-179.5 621.5,-179.5 615.5,-179.5 609.5,-173.5 609.5,-167.5 609.5,-167.5 609.5,-123.5 609.5,-123.5 609.5,-117.5 615.5,-111.5 621.5,-111.5 621.5,-111.5 716.5,-111.5 716.5,-111.5 722.5,-111.5 728.5,-117.5 728.5,-123.5 728.5,-123.5 728.5,-167.5 728.5,-167.5 728.5,-173.5 722.5,-179.5 716.5,-179.5\"/>\n<text text-anchor=\"start\" x=\"639.5\" y=\"-164.3\" font-family=\"Helvetica,sans-Serif\" font-size=\"14.00\" fill=\"#000000\">gini = 0.0</text>\n<text text-anchor=\"start\" x=\"629.5\" y=\"-149.3\" font-family=\"Helvetica,sans-Serif\" font-size=\"14.00\" fill=\"#000000\">samples = 2</text>\n<text text-anchor=\"start\" x=\"619.5\" y=\"-134.3\" font-family=\"Helvetica,sans-Serif\" font-size=\"14.00\" fill=\"#000000\">value = [0, 0, 2]</text>\n<text text-anchor=\"start\" x=\"617.5\" y=\"-119.3\" font-family=\"Helvetica,sans-Serif\" font-size=\"14.00\" fill=\"#000000\">class = virginica</text>\n</g>\n<!-- 13&#45;&gt;14 -->\n<g id=\"edge14\" class=\"edge\">\n<title>13&#45;&gt;14</title>\n<path fill=\"none\" stroke=\"#000000\" d=\"M669,-222.8796C669,-212.2134 669,-200.7021 669,-189.9015\"/>\n<polygon fill=\"#000000\" stroke=\"#000000\" points=\"672.5001,-189.8149 669,-179.8149 665.5001,-189.815 672.5001,-189.8149\"/>\n</g>\n<!-- 15 -->\n<g id=\"node16\" class=\"node\">\n<title>15</title>\n<path fill=\"#39e581\" stroke=\"#000000\" d=\"M863,-179.5C863,-179.5 759,-179.5 759,-179.5 753,-179.5 747,-173.5 747,-167.5 747,-167.5 747,-123.5 747,-123.5 747,-117.5 753,-111.5 759,-111.5 759,-111.5 863,-111.5 863,-111.5 869,-111.5 875,-117.5 875,-123.5 875,-123.5 875,-167.5 875,-167.5 875,-173.5 869,-179.5 863,-179.5\"/>\n<text text-anchor=\"start\" x=\"781.5\" y=\"-164.3\" font-family=\"Helvetica,sans-Serif\" font-size=\"14.00\" fill=\"#000000\">gini = 0.0</text>\n<text text-anchor=\"start\" x=\"771.5\" y=\"-149.3\" font-family=\"Helvetica,sans-Serif\" font-size=\"14.00\" fill=\"#000000\">samples = 1</text>\n<text text-anchor=\"start\" x=\"761.5\" y=\"-134.3\" font-family=\"Helvetica,sans-Serif\" font-size=\"14.00\" fill=\"#000000\">value = [0, 1, 0]</text>\n<text text-anchor=\"start\" x=\"755\" y=\"-119.3\" font-family=\"Helvetica,sans-Serif\" font-size=\"14.00\" fill=\"#000000\">class = versicolor</text>\n</g>\n<!-- 13&#45;&gt;15 -->\n<g id=\"edge15\" class=\"edge\">\n<title>13&#45;&gt;15</title>\n<path fill=\"none\" stroke=\"#000000\" d=\"M718.6647,-222.8796C732.8358,-211.0038 748.257,-198.0804 762.3658,-186.2568\"/>\n<polygon fill=\"#000000\" stroke=\"#000000\" points=\"764.6363,-188.9206 770.0528,-179.8149 760.1402,-183.5554 764.6363,-188.9206\"/>\n</g>\n</g>\n</svg>\n"
          },
          "metadata": {
            "tags": []
          },
          "execution_count": 10
        }
      ]
    },
    {
      "cell_type": "markdown",
      "metadata": {
        "id": "t2iL6lYERAc3"
      },
      "source": [
        "做了 Gradient Boost 的 Decision Tree\n",
        "\n",
        "有很多 decision tree (在 loss 是 MSE 的情況下)\n",
        "\n",
        "Tree 1：得到預測值1\n",
        "\n",
        "Tree 2：訓練時用 答案-預測值1 當 label，得到預測值2\n",
        "\n",
        "Tree 3：訓練時用 答案-(預測值1+預測值2) 當 label，得到預測值3\n",
        "\n",
        "......\n",
        "\n",
        "最後：預測值1 + 預測值2 + 預測值3 + ... 為最終答案\n",
        "\n",
        "介紹：[GBDT](https://machine-learning-notes.gitlab.io/docs/supervised_learning/gbdt/) [Decision Tree](https://machine-learning-notes.gitlab.io/docs/supervised_learning/decision_tree/)\n"
      ]
    },
    {
      "cell_type": "code",
      "metadata": {
        "id": "VY--5qFIt4Tq",
        "colab": {
          "base_uri": "https://localhost:8080/",
          "height": 448
        },
        "outputId": "e6b0a196-2cf9-4753-9d7a-f73b4bc2ab1a"
      },
      "source": [
        "def get_feature_label_baseline2(df):\n",
        "    df = df.copy()\n",
        "    x_mean = df['x'].mean()\n",
        "    y_mean = df['x'].mean()\n",
        "    df['x'].fillna(x_mean, inplace=True)\n",
        "    df['y'].fillna(y_mean, inplace=True)\n",
        "    df.fillna(0, inplace=True)\n",
        "    cols = [\n",
        "        'x', 'y', 'construction to complete the years',\n",
        "        'Building present situation pattern - room', \n",
        "        'building present situation pattern - hall',\n",
        "        'the berth total price NTD',\n",
        "    ]\n",
        "    return df[cols].values, df['price'].values, cols\n",
        "\n",
        "\n",
        "train_feature, train_label, columns = get_feature_label_baseline2(df_train)\n",
        "val_feature, val_label, _ = get_feature_label_baseline2(df_val)\n",
        "test_feature, test_label, _ = get_feature_label_baseline2(df_test)\n",
        "print('shapes', train_feature.shape, val_feature.shape, test_feature.shape)\n",
        "\n",
        "best_model = None\n",
        "best_brmse = np.inf\n",
        "for k in [3, 5, 7, 9, 11, 13]:\n",
        "    knn = KNeighborsRegressor(n_neighbors=k)\n",
        "    scaler = MinMaxScaler()\n",
        "    feature = scaler.fit_transform(train_feature)\n",
        "    knn.fit(feature, train_label)\n",
        "    val_pred = knn.predict(scaler.transform(val_feature))\n",
        "    print('neighbors = %d KNN val rmse, biased rmse' % k, biased_rmse(val_label, val_pred))\n",
        "    _, brmse = biased_rmse(val_label, val_pred)\n",
        "    if brmse < best_brmse:\n",
        "        best_brmse = brmse\n",
        "        best_model = knn\n",
        "\n",
        "train_pred = best_model.predict(feature)\n",
        "val_pred = best_model.predict(scaler.transform(val_feature))\n",
        "test_pred = best_model.predict(scaler.transform(test_feature))\n",
        "print('KNN train rmse, biased rmse', biased_rmse(train_label, train_pred))\n",
        "print('KNN val rmse, biased rmse', biased_rmse(val_label, val_pred))\n",
        "print('KNN test rmse, biased rmse', biased_rmse(test_label, test_pred))\n",
        "knn_rmse, knn_brmse = biased_rmse(test_label, test_pred)\n",
        "\n",
        "best_model = None\n",
        "best_brmse = np.inf\n",
        "for d in [4, 6, 8, 10, 15, 20, None]:\n",
        "    model = LGBMRegressor(max_depth=d, seed=0)\n",
        "    model.fit(train_feature, train_label)\n",
        "    val_pred = model.predict(val_feature)\n",
        "    print('max_depth = %s LGBM val rmse, biased rmse' % str(d), biased_rmse(val_label, val_pred))\n",
        "    _, brmse = biased_rmse(val_label, val_pred)\n",
        "    if brmse < best_brmse:\n",
        "        best_brmse = brmse\n",
        "        best_model = model\n",
        "\n",
        "train_pred = best_model.predict(train_feature)\n",
        "val_pred = best_model.predict(val_feature)    \n",
        "test_pred = best_model.predict(test_feature)\n",
        "train_rmse, train_brmse = biased_rmse(train_label, train_pred)\n",
        "print('LGBM train rmse, biased rmse', biased_rmse(train_label, train_pred))\n",
        "print('LGBM val rmse, biased rmse', biased_rmse(val_label, val_pred))\n",
        "print('LGBM test rmse, biased rmse', biased_rmse(test_label, test_pred))\n",
        "lgbm_rmse, lgbm_brmse = biased_rmse(test_label, test_pred)\n",
        "print(list(zip(columns, best_model.feature_importances_)))\n",
        "\n",
        "print('LightGBM improve rmse %.2f brmse %.2f' % (knn_rmse - lgbm_rmse, knn_brmse - lgbm_brmse))\n"
      ],
      "execution_count": null,
      "outputs": [
        {
          "output_type": "stream",
          "text": [
            "shapes (6142, 6) (171, 6) (2163, 6)\n",
            "neighbors = 3 KNN val rmse, biased rmse (105099.69396381013, 128352.0242046009)\n",
            "neighbors = 5 KNN val rmse, biased rmse (111312.21317011658, 125630.94989140086)\n",
            "neighbors = 7 KNN val rmse, biased rmse (118703.5518697707, 130452.641634784)\n",
            "neighbors = 9 KNN val rmse, biased rmse (109343.96761298465, 125802.67449597539)\n",
            "neighbors = 11 KNN val rmse, biased rmse (108553.94310827342, 124493.93292825636)\n",
            "neighbors = 13 KNN val rmse, biased rmse (109994.25172231472, 124810.80821395293)\n",
            "KNN train rmse, biased rmse (74854.21970038315, 87040.90851087349)\n",
            "KNN val rmse, biased rmse (108553.94310827342, 124493.93292825636)\n",
            "KNN test rmse, biased rmse (100369.97171755054, 111067.50622715637)\n",
            "max_depth = 4 LGBM val rmse, biased rmse (103469.68631076896, 121092.23898416857)\n",
            "max_depth = 6 LGBM val rmse, biased rmse (102838.10139479565, 117937.22548421835)\n",
            "max_depth = 8 LGBM val rmse, biased rmse (101302.83447473706, 116870.16148036023)\n",
            "max_depth = 10 LGBM val rmse, biased rmse (102389.16002856845, 118636.82116471857)\n",
            "max_depth = 15 LGBM val rmse, biased rmse (101936.49382816709, 117794.72830297348)\n",
            "max_depth = 20 LGBM val rmse, biased rmse (101427.66419670223, 117761.35485118793)\n",
            "max_depth = None LGBM val rmse, biased rmse (101427.66419670223, 117761.35485118793)\n",
            "LGBM train rmse, biased rmse (63550.72017633667, 73677.53920644696)\n",
            "LGBM val rmse, biased rmse (101302.83447473706, 116870.16148036023)\n",
            "LGBM test rmse, biased rmse (94620.20624781815, 102287.47534901623)\n",
            "[('x', 877), ('y', 899), ('construction to complete the years', 698), ('Building present situation pattern - room', 215), ('building present situation pattern - hall', 124), ('the berth total price NTD', 155)]\n",
            "LightGBM improve rmse 5749.77 brmse 8780.03\n"
          ],
          "name": "stdout"
        }
      ]
    },
    {
      "cell_type": "markdown",
      "metadata": {
        "id": "0t3qSnuGAFrk"
      },
      "source": [
        "**為 Biased RMSE 特化的模型？**\n",
        "\n",
        "LightGBM 預設優化 MSE ，可以傳入 objective=Python callable 使用自定義的目標函數\n",
        "\n",
        "Customized objective function. Should accept two parameters: preds, train_data, and return (grad, hess)."
      ]
    },
    {
      "cell_type": "code",
      "metadata": {
        "id": "MNv6uz38BcRh",
        "colab": {
          "base_uri": "https://localhost:8080/",
          "height": 223
        },
        "outputId": "410fb6ec-c10d-4ef5-aefa-43abcc2e4263"
      },
      "source": [
        "def obj_biased_mse(y_true, y_pred):\n",
        "    gt = np.where(y_true <= y_pred)[0]\n",
        "    lt = np.where(y_true > y_pred)[0]\n",
        "    grad = np.zeros_like(y_true)\n",
        "    hess = np.zeros_like(y_true)\n",
        "    # 2 * (y_pred - y_true)^2 對 y_pred 微分\n",
        "    grad[gt] = (y_pred[gt] - y_true[gt]) * 4\n",
        "    grad[lt] = (y_pred[lt] - y_true[lt]) * 2\n",
        "    # (y_pred - y_true)^2 對 y_pred 二次微分\n",
        "    hess[gt] = 4\n",
        "    hess[lt] = 2\n",
        "    return grad, hess\n",
        "\n",
        "best_model = None\n",
        "best_brmse = np.inf\n",
        "for d in [4, 6, 8, 10, 15, 20, None]:\n",
        "    model = LGBMRegressor(max_depth=d, objective=obj_biased_mse, seed=0)\n",
        "    model.fit(train_feature, train_label)\n",
        "    val_pred = model.predict(val_feature)\n",
        "    print('max_depth = %s LGBM val rmse, biased rmse' % str(d), biased_rmse(val_label, val_pred))\n",
        "    _, brmse = biased_rmse(val_label, val_pred)\n",
        "    if brmse < best_brmse:\n",
        "        best_brmse = brmse\n",
        "        best_model = model\n",
        "\n",
        "train_pred = best_model.predict(train_feature)\n",
        "val_pred = best_model.predict(val_feature)    \n",
        "test_pred = best_model.predict(test_feature)\n",
        "train_rmse_cus, train_brmse_cus = biased_rmse(train_label, train_pred)\n",
        "print('LGBM train rmse, biased rmse', biased_rmse(train_label, train_pred))\n",
        "print('LGBM val rmse, biased rmse', biased_rmse(val_label, val_pred))\n",
        "print('LGBM test rmse, biased rmse', biased_rmse(test_label, test_pred))\n",
        "print('Custom loss improve training rmse %.2f brmse %.2f' % (train_rmse - train_rmse_cus, train_brmse - train_brmse_cus))"
      ],
      "execution_count": null,
      "outputs": [
        {
          "output_type": "stream",
          "text": [
            "max_depth = 4 LGBM val rmse, biased rmse (109090.84362318502, 116863.70051197482)\n",
            "max_depth = 6 LGBM val rmse, biased rmse (103013.22937020265, 114550.6831205055)\n",
            "max_depth = 8 LGBM val rmse, biased rmse (103461.47526982853, 115525.95412687701)\n",
            "max_depth = 10 LGBM val rmse, biased rmse (102572.19456814938, 115591.22480829147)\n",
            "max_depth = 15 LGBM val rmse, biased rmse (102694.3904494573, 116632.43107417112)\n",
            "max_depth = 20 LGBM val rmse, biased rmse (101664.44645867437, 116067.17629128271)\n",
            "max_depth = None LGBM val rmse, biased rmse (101664.44645867437, 116067.17629128271)\n",
            "LGBM train rmse, biased rmse (67890.55260737843, 73429.46754254212)\n",
            "LGBM val rmse, biased rmse (103013.22937020265, 114550.6831205055)\n",
            "LGBM test rmse, biased rmse (99310.7994613543, 104115.23938129035)\n",
            "Custom loss improve training rmse -4339.83 brmse 248.07\n"
          ],
          "name": "stdout"
        }
      ]
    },
    {
      "cell_type": "markdown",
      "metadata": {
        "id": "p6vQcuo9SpI6"
      },
      "source": [
        "**KNN 換成 LightGBM => 5750 / 8780 improve**\n",
        "\n",
        "如何再進步？\n",
        "# **特徵工程 (feature engineering)**\n",
        "\n",
        "特徵工程：嘗試不同的特徵或是用不同的方式表示特徵\n",
        "\n",
        "常見的處理方式：\n",
        "\n",
        "1. Missing value 做不同的處理\n",
        "1. Outlier 做不同的處理\n",
        "\n",
        "Numerical features:\n",
        "1. 改變數值範圍 (min max scaler, z score standardization)\n",
        "1. 取 log\n",
        "1. 切 bin, ex. (-inf, 1) => 0, [1, 10) => 1, [10, 104) => 2, ...\n",
        "1. 兩項以上組合 ex. 新 feature 車位單價 = 車位總價 / 車位面積\n",
        "\n",
        "Categorical features:\n",
        "1. One hot encoding. [[a], [b], [c]] 變成 [[1, 0, 0], [0, 1, 0], [0, 0, 1]]\n",
        "1. Multi hot encoding. [[a, b], [a], [a, b, c]] 變成 [[1, 1, 0], [1, 0, 0], [1, 1, 1]]\n",
        "1. Label encoding. [[a], [b], [c]] 變成 [[0], [1], [2]]. 注意：decision-based model only (為什麼？)\n",
        "1. Bin counting. 值使用該特徵值出現次數/比例/rank [[a], [b], [b]] 變成 [[1], [2], [2]]\n",
        "1. 兩項以上的組合 ex. 把兩個 column 合併成 tuple 當作新的 categorical feature [[a, a], [a, b], [c, z]] 變成 [[axa], [axb], [cxz]]\n"
      ]
    },
    {
      "cell_type": "markdown",
      "metadata": {
        "id": "MNPYdijNS0rh"
      },
      "source": [
        "# **特徵選擇 (feature selection)**\n",
        "\n",
        "https://scikit-learn.org/stable/modules/feature_selection.html\n",
        "\n",
        "1. 基於統計的方法\n",
        "  1. 計算 feature 間的相關性 ex. correlation coefficient，刪掉相關性高的\n",
        "  1. 計算 feature 與 label 的相關性 ex. correlation coefficient，保留相關性高的\n",
        "1. 基於模型的方法\n",
        "  1. 訓練完模型後，刪掉重要性低的(ie. 對模型預測值影響不大的)\n",
        "1. 基於驗證集的方法\n",
        "  1. 逐一加入(或刪除) feature，觀察 validation score 的變化"
      ]
    },
    {
      "cell_type": "code",
      "metadata": {
        "id": "Q9CTDuC0q9I5",
        "colab": {
          "base_uri": "https://localhost:8080/",
          "height": 280
        },
        "outputId": "a5d380d7-436b-41dd-fe2a-ca248ebc6937"
      },
      "source": [
        "df_train['section'] = df_train['address'].map(lambda x: x[:6] if x[5] == '區' else '')\n",
        "df_val['section'] = df_val['address'].map(lambda x: x[:6] if x[5] == '區' else '')\n",
        "df_test['section'] = df_test['address'].map(lambda x: x[:6] if x[5] == '區' else '')\n",
        "sections = df_train['section'].unique()\n",
        "levels = df_train['shifting level'].unique()\n",
        "\n",
        "def get_feature_label(df):\n",
        "    df = df.copy()\n",
        "    x_mean = df['x'].mean()\n",
        "    y_mean = df['x'].mean()\n",
        "    df['x'].fillna(x_mean, inplace=True)\n",
        "    df['y'].fillna(y_mean, inplace=True)\n",
        "    df.fillna(0, inplace=True)\n",
        "\n",
        "    df['construction to complete the years'] = df['construction to complete the years'].map(lambda x: arrow.get(str(int(x) + 19110000), 'YYYYMMDD').timestamp // 86400 if x != 0 else np.nan)\n",
        "    y_mean = df['construction to complete the years'].mean()\n",
        "    df['construction to complete the years'].fillna(y_mean, inplace=True)\n",
        "\n",
        "    cols = [\n",
        "        'x', 'y', 'construction to complete the years',\n",
        "        'building present situation pattern - hall', \n",
        "        'the berth total price NTD',\n",
        "    ]\n",
        "    \n",
        "    # multi-hot encoding\n",
        "    for note in note_list:\n",
        "        df['note_%s' % note] = df['the note'].map(lambda x: note in str(x))\n",
        "        cols.append('note_%s' % note)\n",
        "\n",
        "    # one-hot encoding\n",
        "    for section in sections:\n",
        "        df['section_%s' % section] = (df['section'] == section).astype(int)\n",
        "        cols.append('section_%s' % section)\n",
        "    \n",
        "    return df[cols].values, df['price'].values, cols\n",
        "\n",
        "train_feature, train_label, columns = get_feature_label(df_train)\n",
        "val_feature, val_label, _ = get_feature_label(df_val)\n",
        "test_feature, test_label, _ = get_feature_label(df_test)\n",
        "print('shapes', train_feature.shape, val_feature.shape, test_feature.shape)\n",
        "\n",
        "best_model = None\n",
        "best_brmse = np.inf\n",
        "for d in [4, 6, 8, 10, 15, 20, None]:\n",
        "    model = LGBMRegressor(max_depth=d, seed=0)\n",
        "    model.fit(train_feature, train_label)\n",
        "    val_pred = model.predict(val_feature)\n",
        "    print('max_depth = %s LGBM val rmse, biased rmse' % str(d), biased_rmse(val_label, val_pred))\n",
        "    _, brmse = biased_rmse(val_label, val_pred)\n",
        "    if brmse < best_brmse:\n",
        "        best_brmse = brmse\n",
        "        best_model = model\n",
        "\n",
        "train_pred = best_model.predict(train_feature)\n",
        "val_pred = best_model.predict(val_feature)    \n",
        "test_pred = best_model.predict(test_feature)\n",
        "print('LGBM train rmse, biased rmse', biased_rmse(train_label, train_pred))\n",
        "print('LGBM val rmse, biased rmse', biased_rmse(val_label, val_pred))\n",
        "print('LGBM test rmse, biased rmse', biased_rmse(test_label, test_pred))\n",
        "lgbm_rmse, lgbm_brmse = biased_rmse(test_label, test_pred)\n",
        "print(list(zip(columns, best_model.feature_importances_)))\n",
        "\n",
        "print('LightGBM improve rmse %.2f brmse %.2f' % (knn_rmse - lgbm_rmse, knn_brmse - lgbm_brmse))"
      ],
      "execution_count": null,
      "outputs": [
        {
          "output_type": "stream",
          "text": [
            "shapes (6142, 30) (171, 30) (2163, 30)\n",
            "max_depth = 4 LGBM val rmse, biased rmse (100835.7612098528, 110069.121219074)\n",
            "max_depth = 6 LGBM val rmse, biased rmse (97176.1997516706, 107395.0431991002)\n",
            "max_depth = 8 LGBM val rmse, biased rmse (97482.4022080259, 107584.09427237307)\n",
            "max_depth = 10 LGBM val rmse, biased rmse (96850.41753302405, 107028.1015822433)\n",
            "max_depth = 15 LGBM val rmse, biased rmse (97704.65545883945, 106953.036159939)\n",
            "max_depth = 20 LGBM val rmse, biased rmse (97327.615417309, 106438.53109391007)\n",
            "max_depth = None LGBM val rmse, biased rmse (97327.615417309, 106438.53109391007)\n",
            "LGBM train rmse, biased rmse (61860.741482340105, 70662.46501193552)\n",
            "LGBM val rmse, biased rmse (97327.615417309, 106438.53109391007)\n",
            "LGBM test rmse, biased rmse (90575.93356668125, 97033.1879945229)\n",
            "[('x', 719), ('y', 742), ('construction to complete the years', 727), ('building present situation pattern - hall', 182), ('the berth total price NTD', 151), ('note_親友、員工或其他特殊關係間之交易', 86), ('note_含增建或未登記建物', 88), ('note_建商與地主合建案', 0), ('note_包含)公共設施保留地之交易', 0), ('note_畸零地或有合併使用之交易', 0), ('note_向政府機關承購之案件', 35), ('note_受債權債務影響或債務抵償之交易', 9), ('note_急買急賣', 0), ('note_有民情風俗因素之交易', 0), ('note_單獨車位交易', 0), ('note_土地及建物分次登記案件', 0), ('note_瑕疵物件之交易', 0), ('section_', 21), ('section_臺北市內湖區', 22), ('section_臺北市大安區', 38), ('section_臺北市士林區', 29), ('section_臺北市中正區', 39), ('section_臺北市中山區', 43), ('section_臺北市信義區', 25), ('section_臺北市萬華區', 0), ('section_臺北市北投區', 9), ('section_臺北市松山區', 19), ('section_臺北市文山區', 11), ('section_臺北市南港區', 0), ('section_臺北市大同區', 5)]\n",
            "LightGBM improve rmse 9794.04 brmse 14034.32\n"
          ],
          "name": "stdout"
        }
      ]
    },
    {
      "cell_type": "code",
      "metadata": {
        "id": "qqixoXmS1oxa",
        "colab": {
          "base_uri": "https://localhost:8080/",
          "height": 204
        },
        "outputId": "db8ae234-7d00-49d9-88f5-6381c059b614"
      },
      "source": [
        "best_model = None\n",
        "best_brmse = np.inf\n",
        "scaler = MinMaxScaler()\n",
        "feature = scaler.fit_transform(train_feature)\n",
        "for k in [3, 5, 7, 9, 11, 13]:\n",
        "    knn = KNeighborsRegressor(n_neighbors=k)\n",
        "    knn.fit(feature, train_label)\n",
        "    val_pred = knn.predict(scaler.transform(val_feature))\n",
        "    print('neighbors = %d KNN val rmse, biased rmse' % k, biased_rmse(val_label, val_pred))\n",
        "    _, brmse = biased_rmse(val_label, val_pred)\n",
        "    if brmse < best_brmse:\n",
        "        best_brmse = brmse\n",
        "        best_model = knn\n",
        "\n",
        "train_pred = best_model.predict(feature)\n",
        "val_pred = best_model.predict(scaler.transform(val_feature))\n",
        "test_pred = best_model.predict(scaler.transform(test_feature))\n",
        "print('KNN train rmse, biased rmse', biased_rmse(train_label, train_pred))\n",
        "print('KNN val rmse, biased rmse', biased_rmse(val_label, val_pred))\n",
        "print('KNN test rmse, biased rmse', biased_rmse(test_label, test_pred))\n",
        "knn2_rmse, knn2_brmse = biased_rmse(test_label, test_pred)\n",
        "\n",
        "print('KNN improved by feature rmse %.2f brmse %.2f' % (knn_rmse - knn2_rmse, knn_brmse - knn2_brmse))"
      ],
      "execution_count": null,
      "outputs": [
        {
          "output_type": "stream",
          "text": [
            "neighbors = 3 KNN val rmse, biased rmse (116704.3020372289, 128403.40130926)\n",
            "neighbors = 5 KNN val rmse, biased rmse (109570.06438438327, 119909.97011683341)\n",
            "neighbors = 7 KNN val rmse, biased rmse (108018.78363161534, 116373.2163105461)\n",
            "neighbors = 9 KNN val rmse, biased rmse (97220.04601228524, 108862.65982877738)\n",
            "neighbors = 11 KNN val rmse, biased rmse (99465.96796904744, 109989.21090642718)\n",
            "neighbors = 13 KNN val rmse, biased rmse (97844.71911457842, 108956.41708414555)\n",
            "KNN train rmse, biased rmse (69847.75453344651, 78948.55183534873)\n",
            "KNN val rmse, biased rmse (97220.04601228524, 108862.65982877738)\n",
            "KNN test rmse, biased rmse (94294.94879944001, 100448.8393159541)\n",
            "KNN improved by feature rmse 6075.02 brmse 10618.67\n"
          ],
          "name": "stdout"
        }
      ]
    },
    {
      "cell_type": "markdown",
      "metadata": {
        "id": "1hvHgbKFGL9S"
      },
      "source": [
        "Feature improve: 6075 / 10618\n",
        "\n",
        "Model improve: 5750 / 8730\n",
        "\n",
        "Feature > Model ，而好的 feature 來自 domain knowledge 以及對資料的分析、觀察\n",
        "\n",
        "注意 feature 維度相對於資料筆數不可以太大 (為什麼？)"
      ]
    }
  ]
}